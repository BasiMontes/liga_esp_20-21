{
  "nbformat": 4,
  "nbformat_minor": 0,
  "metadata": {
    "colab": {
      "name": "liga.ipynb",
      "provenance": []
    },
    "kernelspec": {
      "name": "python3",
      "display_name": "Python 3"
    },
    "language_info": {
      "name": "python"
    }
  },
  "cells": [
    {
      "cell_type": "code",
      "metadata": {
        "id": "wM8kFwD5nyl_"
      },
      "source": [
        "#https://towardsdatascience.com/\n",
        "#https://www.resultados-futbol.com\n",
        "#https://pypi.org/project/bar-chart-race/"
      ],
      "execution_count": null,
      "outputs": []
    },
    {
      "cell_type": "code",
      "metadata": {
        "colab": {
          "base_uri": "https://localhost:8080/"
        },
        "id": "ptXw6wErVOye",
        "outputId": "ea02c81c-1cd8-4e36-df79-390c5b4abe40"
      },
      "source": [
        "!pip install bar-chart-race"
      ],
      "execution_count": null,
      "outputs": [
        {
          "output_type": "stream",
          "text": [
            "Collecting bar-chart-race\n",
            "\u001b[?25l  Downloading https://files.pythonhosted.org/packages/09/01/f6d1a1a0978b39560843c54be7349804d7d2faef0a869acd7c8a6fc920b0/bar_chart_race-0.1.0-py3-none-any.whl (156kB)\n",
            "\r\u001b[K     |██                              | 10kB 13.4MB/s eta 0:00:01\r\u001b[K     |████▏                           | 20kB 18.4MB/s eta 0:00:01\r\u001b[K     |██████▎                         | 30kB 12.8MB/s eta 0:00:01\r\u001b[K     |████████▍                       | 40kB 10.6MB/s eta 0:00:01\r\u001b[K     |██████████▌                     | 51kB 5.5MB/s eta 0:00:01\r\u001b[K     |████████████▌                   | 61kB 6.1MB/s eta 0:00:01\r\u001b[K     |██████████████▋                 | 71kB 5.8MB/s eta 0:00:01\r\u001b[K     |████████████████▊               | 81kB 6.4MB/s eta 0:00:01\r\u001b[K     |██████████████████▉             | 92kB 6.7MB/s eta 0:00:01\r\u001b[K     |█████████████████████           | 102kB 5.1MB/s eta 0:00:01\r\u001b[K     |███████████████████████         | 112kB 5.1MB/s eta 0:00:01\r\u001b[K     |█████████████████████████       | 122kB 5.1MB/s eta 0:00:01\r\u001b[K     |███████████████████████████▏    | 133kB 5.1MB/s eta 0:00:01\r\u001b[K     |█████████████████████████████▎  | 143kB 5.1MB/s eta 0:00:01\r\u001b[K     |███████████████████████████████▍| 153kB 5.1MB/s eta 0:00:01\r\u001b[K     |████████████████████████████████| 163kB 5.1MB/s \n",
            "\u001b[?25hRequirement already satisfied: matplotlib>=3.1 in /usr/local/lib/python3.7/dist-packages (from bar-chart-race) (3.2.2)\n",
            "Requirement already satisfied: pandas>=0.24 in /usr/local/lib/python3.7/dist-packages (from bar-chart-race) (1.1.5)\n",
            "Requirement already satisfied: kiwisolver>=1.0.1 in /usr/local/lib/python3.7/dist-packages (from matplotlib>=3.1->bar-chart-race) (1.3.1)\n",
            "Requirement already satisfied: cycler>=0.10 in /usr/local/lib/python3.7/dist-packages (from matplotlib>=3.1->bar-chart-race) (0.10.0)\n",
            "Requirement already satisfied: pyparsing!=2.0.4,!=2.1.2,!=2.1.6,>=2.0.1 in /usr/local/lib/python3.7/dist-packages (from matplotlib>=3.1->bar-chart-race) (2.4.7)\n",
            "Requirement already satisfied: numpy>=1.11 in /usr/local/lib/python3.7/dist-packages (from matplotlib>=3.1->bar-chart-race) (1.19.5)\n",
            "Requirement already satisfied: python-dateutil>=2.1 in /usr/local/lib/python3.7/dist-packages (from matplotlib>=3.1->bar-chart-race) (2.8.1)\n",
            "Requirement already satisfied: pytz>=2017.2 in /usr/local/lib/python3.7/dist-packages (from pandas>=0.24->bar-chart-race) (2018.9)\n",
            "Requirement already satisfied: six in /usr/local/lib/python3.7/dist-packages (from cycler>=0.10->matplotlib>=3.1->bar-chart-race) (1.15.0)\n",
            "Installing collected packages: bar-chart-race\n",
            "Successfully installed bar-chart-race-0.1.0\n"
          ],
          "name": "stdout"
        }
      ]
    },
    {
      "cell_type": "code",
      "metadata": {
        "colab": {
          "base_uri": "https://localhost:8080/"
        },
        "id": "MDxL3CFkVWpl",
        "outputId": "4e0b6534-880e-4a48-ae0b-640dda5f9124"
      },
      "source": [
        "!pip install ffmpeg-python"
      ],
      "execution_count": null,
      "outputs": [
        {
          "output_type": "stream",
          "text": [
            "Collecting ffmpeg-python\n",
            "  Downloading https://files.pythonhosted.org/packages/d7/0c/56be52741f75bad4dc6555991fabd2e07b432d333da82c11ad701123888a/ffmpeg_python-0.2.0-py3-none-any.whl\n",
            "Requirement already satisfied: future in /usr/local/lib/python3.7/dist-packages (from ffmpeg-python) (0.16.0)\n",
            "Installing collected packages: ffmpeg-python\n",
            "Successfully installed ffmpeg-python-0.2.0\n"
          ],
          "name": "stdout"
        }
      ]
    },
    {
      "cell_type": "code",
      "metadata": {
        "colab": {
          "resources": {
            "http://localhost:8080/nbextensions/google.colab/files.js": {
              "data": "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",
              "ok": true,
              "headers": [
                [
                  "content-type",
                  "application/javascript"
                ]
              ],
              "status": 200,
              "status_text": "OK"
            }
          },
          "base_uri": "https://localhost:8080/",
          "height": 114
        },
        "id": "67BDh2QzVdGu",
        "outputId": "c10f8ac6-ce04-44cb-bc63-937c24962f63"
      },
      "source": [
        "from google.colab import files\n",
        " \n",
        "files.upload() "
      ],
      "execution_count": null,
      "outputs": [
        {
          "output_type": "display_data",
          "data": {
            "text/html": [
              "\n",
              "     <input type=\"file\" id=\"files-9e4d544d-b675-4486-b0cc-c73873f82593\" name=\"files[]\" multiple disabled\n",
              "        style=\"border:none\" />\n",
              "     <output id=\"result-9e4d544d-b675-4486-b0cc-c73873f82593\">\n",
              "      Upload widget is only available when the cell has been executed in the\n",
              "      current browser session. Please rerun this cell to enable.\n",
              "      </output>\n",
              "      <script src=\"/nbextensions/google.colab/files.js\"></script> "
            ],
            "text/plain": [
              "<IPython.core.display.HTML object>"
            ]
          },
          "metadata": {
            "tags": []
          }
        },
        {
          "output_type": "stream",
          "text": [
            "Saving liga_santander_2020-2021.csv to liga_santander_2020-2021.csv\n"
          ],
          "name": "stdout"
        },
        {
          "output_type": "execute_result",
          "data": {
            "text/plain": [
              "{'liga_santander_2020-2021.csv': b'jornadas;fecha;clasificacion;equipo;puntos;partidos_jugados;partidos_ganados;partidos_empatados;partidos_perdidos;goles_a_favor;goles_en_contra\\r\\n1;2020/09/12;1;Real Madrid;3;1;1;0;0;2;0\\r\\n1;2020/09/12;2;Atl\\xc3\\xa9tico de Madrid;3;1;1;0;0;2;0\\r\\n1;2020/09/12;3;Barcelona;3;1;1;0;0;3;0\\r\\n1;2020/09/12;4;Real Betis;3;1;1;0;0;1;0\\r\\n1;2020/09/12;5;Granada;3;1;1;0;0;2;0\\r\\n1;2020/09/12;6;Valencia;3;1;1;0;0;4;2\\r\\n1;2020/09/12;7;Osasuna;3;1;1;0;0;2;0\\r\\n1;2020/09/12;8;R. Sociedad;1;1;0;1;0;1;1\\r\\n1;2020/09/12;9;Villarreal;1;1;0;1;0;1;1\\r\\n1;2020/09/12;10;Celta;1;1;0;1;0;0;0\\r\\n1;2020/09/12;11;Huesca;1;1;0;1;0;1;1\\r\\n1;2020/09/12;12;Eibar;1;1;0;1;0;0;0\\r\\n1;2020/09/12;13;Real Valladolid;1;1;0;1;0;1;1\\r\\n1;2020/09/12;14;Alav\\xc3\\xa9s;0;1;0;0;1;0;1\\r\\n1;2020/09/12;15;Levante;0;1;0;0;1;2;4\\r\\n1;2020/09/12;16;Athletic;0;1;0;0;1;0;2\\r\\n1;2020/09/12;17;C\\xc3\\xa1diz;0;1;0;0;1;0;2\\r\\n1;2020/09/12;18;Getafe;0;1;0;0;1;0;2\\r\\n1;2020/09/12;19;Sevilla;0;1;0;0;1;0;2\\r\\n1;2020/09/12;20;Elche;0;1;0;0;1;0;3\\r\\n2;2020/09/19;1;Barcelona;6;2;2;0;0;6;2\\r\\n2;2020/09/19;2;Granada;6;2;2;0;0;4;1\\r\\n2;2020/09/19;3;Real Betis;6;2;2;0;0;3;0\\r\\n2;2020/09/19;4;Real Madrid;4;2;1;1;0;2;0\\r\\n2;2020/09/19;5;Atl\\xc3\\xa9tico de Madrid;4;2;1;1;0;3;1\\r\\n2;2020/09/19;6;Villarreal;4;2;1;1;0;3;2\\r\\n2;2020/09/19;7;Celta;4;2;1;1;0;2;1\\r\\n2;2020/09/19;8;Sevilla;3;2;1;0;1;2;2\\r\\n2;2020/09/19;9;Getafe;3;2;1;0;1;1;2\\r\\n2;2020/09/19;10;Osasuna;3;2;1;0;1;2;1\\r\\n2;2020/09/19;11;C\\xc3\\xa1diz;3;2;1;0;1;2;2\\r\\n2;2020/09/19;12;Valencia;3;2;1;0;1;5;4\\r\\n2;2020/09/19;13;R. Sociedad;2;2;0;2;0;1;1\\r\\n2;2020/09/19;14;Huesca;1;2;0;1;1;1;3\\r\\n2;2020/09/19;15;Levante;1;2;0;1;1;3;5\\r\\n2;2020/09/19;16;Eibar;1;2;0;1;1;1;2\\r\\n2;2020/09/19;17;Real Valladolid;1;2;0;1;1;1;3\\r\\n2;2020/09/19;18;Alav\\xc3\\xa9s;0;2;0;0;2;1;3\\r\\n2;2020/09/19;19;Elche;0;2;0;0;2;0;5\\r\\n2;2020/09/19;20;Athletic;0;2;0;0;2;2;5\\r\\n3;2020/09/26;1;Barcelona;9;3;3;0;0;10;2\\r\\n3;2020/09/26;2;Real Madrid;7;3;2;1;0;5;2\\r\\n3;2020/09/26;3;Atl\\xc3\\xa9tico de Madrid;7;3;2;1;0;9;2\\r\\n3;2020/09/26;4;Sevilla;6;3;2;0;1;5;3\\r\\n3;2020/09/26;5;Granada;6;3;2;0;1;5;7\\r\\n3;2020/09/26;6;Real Betis;6;3;2;0;1;5;3\\r\\n3;2020/09/26;7;R. Sociedad;5;3;1;2;0;4;1\\r\\n3;2020/09/26;8;Celta;5;3;1;2;0;3;2\\r\\n3;2020/09/26;9;Villarreal;4;3;1;1;1;3;6\\r\\n3;2020/09/26;10;Getafe;4;3;1;1;1;1;2\\r\\n3;2020/09/26;11;Valencia;4;3;1;1;1;6;5\\r\\n3;2020/09/26;12;Levante;4;3;1;1;1;6;6\\r\\n3;2020/09/26;13;Osasuna;3;3;1;0;2;3;4\\r\\n3;2020/09/26;14;Athletic;3;3;1;0;2;4;6\\r\\n3;2020/09/26;15;C\\xc3\\xa1diz;3;3;1;0;2;3;5\\r\\n3;2020/09/26;16;Huesca;2;3;0;2;1;2;4\\r\\n3;2020/09/26;17;Real Valladolid;2;3;0;2;1;2;4\\r\\n3;2020/09/26;18;Eibar;1;3;0;1;2;2;4\\r\\n3;2020/09/26;19;Alav\\xc3\\xa9s;1;3;0;1;2;1;3\\r\\n3;2020/09/26;20;Elche;0;3;0;0;3;0;8\\r\\n4;2020/09/29;1;Barcelona;12;4;4;0;0;13;2\\r\\n4;2020/09/29;2;Real Madrid;10;4;3;1;0;6;2\\r\\n4;2020/09/29;3;Sevilla;9;4;3;0;1;6;3\\r\\n4;2020/09/29;4;Granada;9;4;3;0;1;7;7\\r\\n4;2020/09/29;5;Atl\\xc3\\xa9tico de Madrid;8;4;2;2;0;9;2\\r\\n4;2020/09/29;6;Villarreal;7;4;2;1;1;6;7\\r\\n4;2020/09/29;7;Getafe;7;4;2;1;1;4;2\\r\\n4;2020/09/29;8;Valencia;7;4;2;1;1;7;5\\r\\n4;2020/09/29;9;Real Betis;6;4;2;0;2;5;6\\r\\n4;2020/09/29;10;C\\xc3\\xa1diz;6;4;2;0;2;4;5\\r\\n4;2020/09/29;11;R. Sociedad;5;4;1;2;1;4;2\\r\\n4;2020/09/29;12;Celta;5;4;1;2;1;3;5\\r\\n4;2020/09/29;13;Levante;4;4;1;1;2;6;7\\r\\n4;2020/09/29;14;Osasuna;3;4;1;0;3;3;6\\r\\n4;2020/09/29;15;Huesca;3;4;0;3;1;2;4\\r\\n4;2020/09/29;16;Athletic;3;4;1;0;3;4;7\\r\\n4;2020/09/29;17;Elche;3;4;1;0;3;1;8\\r\\n4;2020/09/29;18;Real Valladolid;2;4;0;2;2;2;5\\r\\n4;2020/09/29;19;Eibar;1;4;0;1;3;2;5\\r\\n4;2020/09/29;20;Alav\\xc3\\xa9s;1;4;0;1;3;2;6\\r\\n5;2020/10/03;1;Real Madrid;13;5;4;1;0;8;2\\r\\n5;2020/10/03;2;Barcelona;13;5;4;1;0;14;3\\r\\n5;2020/10/03;3;Sevilla;10;5;3;1;1;7;4\\r\\n5;2020/10/03;4;Granada;10;5;3;1;1;8;8\\r\\n5;2020/10/03;5;Atl\\xc3\\xa9tico de Madrid;9;5;2;3;0;9;2\\r\\n5;2020/10/03;6;Real Betis;9;5;3;0;2;7;6\\r\\n5;2020/10/03;7;R. Sociedad;8;5;2;2;1;7;2\\r\\n5;2020/10/03;8;Villarreal;8;5;2;2;1;6;7\\r\\n5;2020/10/03;9;Getafe;7;5;2;1;2;4;5\\r\\n5;2020/10/03;10;C\\xc3\\xa1diz;7;5;2;1;2;5;6\\r\\n5;2020/10/03;11;Valencia;7;5;2;1;2;7;7\\r\\n5;2020/10/03;12;Osasuna;6;5;2;0;3;5;6\\r\\n5;2020/10/03;13;Celta;5;5;1;2;2;3;7\\r\\n5;2020/10/03;14;Elche;4;5;1;1;3;1;8\\r\\n5;2020/10/03;15;Huesca;4;5;0;4;1;2;4\\r\\n5;2020/10/03;16;Alav\\xc3\\xa9s;4;5;1;1;3;3;6\\r\\n5;2020/10/03;17;Levante;4;5;1;1;3;6;9\\r\\n5;2020/10/03;18;Eibar;4;5;1;1;3;4;6\\r\\n5;2020/10/03;19;Athletic;3;5;1;0;4;4;8\\r\\n5;2020/10/03;20;Real Valladolid;2;5;0;2;3;3;7\\r\\n6;2020/10/17;1;Real Madrid;13;6;4;1;1;8;3\\r\\n6;2020/10/17;2;Barcelona;13;6;4;1;1;14;4\\r\\n6;2020/10/17;3;Granada;13;6;4;1;1;9;8\\r\\n6;2020/10/17;4;Atl\\xc3\\xa9tico de Madrid;12;6;3;3;0;11;2\\r\\n6;2020/10/17;5;R. Sociedad;11;6;3;2;1;10;2\\r\\n6;2020/10/17;6;Villarreal;11;6;3;2;1;8;8\\r\\n6;2020/10/17;7;Sevilla;10;6;3;1;2;7;5\\r\\n6;2020/10/17;8;Getafe;10;6;3;1;2;5;5\\r\\n6;2020/10/17;9;C\\xc3\\xa1diz;10;6;3;1;2;6;6\\r\\n6;2020/10/17;10;Real Betis;9;6;3;0;3;7;9\\r\\n6;2020/10/17;11;Osasuna;7;6;2;1;3;5;6\\r\\n6;2020/10/17;12;Valencia;7;6;2;1;3;8;9\\r\\n6;2020/10/17;13;Elche;7;6;2;1;3;3;8\\r\\n6;2020/10/17;14;Athletic;6;6;2;0;4;6;8\\r\\n6;2020/10/17;15;Celta;5;6;1;2;3;3;9\\r\\n6;2020/10/17;16;Eibar;5;6;1;2;3;4;6\\r\\n6;2020/10/17;17;Huesca;5;6;0;5;1;4;6\\r\\n6;2020/10/17;18;Levante;4;6;1;1;4;6;11\\r\\n6;2020/10/17;19;Alav\\xc3\\xa9s;4;6;1;1;4;3;8\\r\\n6;2020/10/17;20;Real Valladolid;3;6;0;3;3;5;9\\r\\n7;2020/10/23;1;Real Madrid;16;7;5;1;1;11;4\\r\\n7;2020/10/23;2;Granada;16;7;5;1;1;10;8\\r\\n7;2020/10/23;3;Atl\\xc3\\xa9tico de Madrid;15;7;4;3;0;13;2\\r\\n7;2020/10/23;4;R. Sociedad;14;7;4;2;1;14;3\\r\\n7;2020/10/23;5;Barcelona;13;7;4;1;2;15;7\\r\\n7;2020/10/23;6;Villarreal;12;7;3;3;1;8;8\\r\\n7;2020/10/23;7;C\\xc3\\xa1diz;11;7;3;2;2;6;6\\r\\n7;2020/10/23;8;Sevilla;10;7;3;1;3;7;6\\r\\n7;2020/10/23;9;Getafe;10;7;3;1;3;5;6\\r\\n7;2020/10/23;10;Osasuna;10;7;3;1;3;6;6\\r\\n7;2020/10/23;11;Elche;10;7;3;1;3;5;9\\r\\n7;2020/10/23;12;Real Betis;9;7;3;0;4;7;11\\r\\n7;2020/10/23;13;Eibar;8;7;2;2;3;5;6\\r\\n7;2020/10/23;14;Valencia;7;7;2;1;4;9;11\\r\\n7;2020/10/23;15;Alav\\xc3\\xa9s;7;7;2;1;4;5;8\\r\\n7;2020/10/23;16;Celta;6;7;1;3;3;4;10\\r\\n7;2020/10/23;17;Athletic;6;7;2;0;5;6;9\\r\\n7;2020/10/23;18;Huesca;5;7;0;5;2;5;10\\r\\n7;2020/10/23;19;Levante;5;7;1;2;4;7;12\\r\\n7;2020/10/23;20;Real Valladolid;3;7;0;3;4;5;11\\r\\n8;2020/10/30;1;Real Madrid;19;8;6;1;1;15;5\\r\\n8;2020/10/30;2;Atl\\xc3\\xa9tico de Madrid;18;8;5;3;0;16;3\\r\\n8;2020/10/30;3;R. Sociedad;17;8;5;2;1;18;4\\r\\n8;2020/10/30;4;Granada;17;8;5;2;1;11;9\\r\\n8;2020/10/30;5;Villarreal;15;8;4;3;1;10;8\\r\\n8;2020/10/30;6;C\\xc3\\xa1diz;14;8;4;2;2;8;6\\r\\n8;2020/10/30;7;Barcelona;14;8;4;2;2;16;8\\r\\n8;2020/10/30;8;Real Betis;12;8;4;0;4;10;12\\r\\n8;2020/10/30;9;Getafe;11;8;3;2;3;7;8\\r\\n8;2020/10/30;10;Sevilla;10;8;3;1;4;8;8\\r\\n8;2020/10/30;11;Osasuna;10;8;3;1;4;7;9\\r\\n8;2020/10/30;12;Elche;10;8;3;1;4;6;12\\r\\n8;2020/10/30;13;Athletic;9;8;3;0;5;8;10\\r\\n8;2020/10/30;14;Valencia;8;8;2;2;4;11;13\\r\\n8;2020/10/30;15;Alav\\xc3\\xa9s;8;8;2;2;4;6;9\\r\\n8;2020/10/30;16;Eibar;8;8;2;2;4;5;8\\r\\n8;2020/10/30;17;Celta;6;8;1;3;4;5;14\\r\\n8;2020/10/30;18;Levante;6;8;1;3;4;8;13\\r\\n8;2020/10/30;19;Huesca;5;8;0;5;3;6;14\\r\\n8;2020/10/30;20;Real Valladolid;3;8;0;3;5;5;13\\r\\n9;2020/11/06;1;Atl\\xc3\\xa9tico de Madrid;21;9;6;3;0;20;3\\r\\n9;2020/11/06;2;R. Sociedad;20;9;6;2;1;20;4\\r\\n9;2020/11/06;3;Real Madrid;19;9;6;1;2;16;9\\r\\n9;2020/11/06;4;Villarreal;18;9;5;3;1;13;9\\r\\n9;2020/11/06;5;Barcelona;17;9;5;2;2;21;10\\r\\n9;2020/11/06;6;Granada;17;9;5;2;2;11;11\\r\\n9;2020/11/06;7;C\\xc3\\xa1diz;14;9;4;2;3;8;10\\r\\n9;2020/11/06;8;Sevilla;13;9;4;1;4;9;8\\r\\n9;2020/11/06;9;Real Betis;12;9;4;0;5;12;17\\r\\n9;2020/11/06;10;Getafe;11;9;3;2;4;8;11\\r\\n9;2020/11/06;11;Valencia;11;9;3;2;4;15;14\\r\\n9;2020/11/06;12;Elche;11;9;3;2;4;7;13\\r\\n9;2020/11/06;13;Osasuna;10;9;3;1;5;7;10\\r\\n9;2020/11/06;14;Alav\\xc3\\xa9s;9;9;2;3;4;7;10\\r\\n9;2020/11/06;15;Athletic;9;9;3;0;6;9;12\\r\\n9;2020/11/06;16;Eibar;9;9;2;3;4;6;9\\r\\n9;2020/11/06;17;Celta;7;9;1;4;4;6;15\\r\\n9;2020/11/06;18;Levante;7;9;1;4;4;9;14\\r\\n9;2020/11/06;19;Huesca;6;9;0;6;3;7;15\\r\\n9;2020/11/06;20;Real Valladolid;6;9;1;3;5;7;14\\r\\n10;2020/11/20;1;Atl\\xc3\\xa9tico de Madrid;24;10;7;3;0;21;3\\r\\n10;2020/11/20;2;R. Sociedad;23;10;7;2;1;21;4\\r\\n10;2020/11/20;3;Real Madrid;20;10;6;2;2;17;10\\r\\n10;2020/11/20;4;Villarreal;19;10;5;4;1;14;10\\r\\n10;2020/11/20;5;Barcelona;17;10;5;2;3;21;11\\r\\n10;2020/11/20;6;Granada;17;10;5;2;3;12;14\\r\\n10;2020/11/20;7;Sevilla;16;10;5;1;4;13;10\\r\\n10;2020/11/20;8;C\\xc3\\xa1diz;14;10;4;2;4;8;11\\r\\n10;2020/11/20;9;Athletic;12;10;4;0;6;13;12\\r\\n10;2020/11/20;10;Getafe;12;10;3;3;4;8;11\\r\\n10;2020/11/20;11;Real Betis;12;10;4;0;6;12;21\\r\\n10;2020/11/20;12;Elche;12;10;3;3;4;8;14\\r\\n10;2020/11/20;13;Valencia;12;10;3;3;4;17;16\\r\\n10;2020/11/20;14;Osasuna;11;10;3;2;5;8;11\\r\\n10;2020/11/20;15;Eibar;10;10;2;4;4;6;9\\r\\n10;2020/11/20;16;Alav\\xc3\\xa9s;10;10;2;4;4;9;12\\r\\n10;2020/11/20;17;Real Valladolid;9;10;2;3;5;10;15\\r\\n10;2020/11/20;18;Levante;8;10;1;5;4;10;15\\r\\n10;2020/11/20;19;Celta;7;10;1;4;5;8;19\\r\\n10;2020/11/27;20;Huesca;7;10;0;7;3;8;16\\r\\n11;2020/11/27;1;Atl\\xc3\\xa9tico de Madrid;27;11;8;3;0;22;3\\r\\n11;2020/11/27;2;R. Sociedad;24;11;7;3;1;22;5\\r\\n11;2020/11/27;3;Real Madrid;20;11;6;2;3;18;12\\r\\n11;2020/11/27;4;Barcelona;20;11;6;2;3;25;11\\r\\n11;2020/11/27;5;Villarreal;20;11;5;5;1;15;11\\r\\n11;2020/11/27;6;Sevilla;19;11;6;1;4;14;10\\r\\n11;2020/11/27;7;Granada;17;11;5;2;4;13;17\\r\\n11;2020/11/27;8;C\\xc3\\xa1diz;15;11;4;3;4;9;12\\r\\n11;2020/11/27;9;Elche;13;11;3;4;4;9;15\\r\\n11;2020/11/27;10;Athletic;13;11;4;1;6;14;13\\r\\n11;2020/11/27;11;Alav\\xc3\\xa9s;13;11;3;4;4;11;13\\r\\n11;2020/11/27;12;Eibar;13;11;3;4;4;8;9\\r\\n11;2020/11/27;13;Getafe;13;11;3;4;4;9;12\\r\\n11;2020/11/27;14;Real Betis;12;11;4;0;7;12;23\\r\\n11;2020/11/27;15;Valencia;12;11;3;3;5;17;17\\r\\n11;2020/11/27;16;Osasuna;11;11;3;2;6;8;15\\r\\n11;2020/11/27;17;Real Valladolid;10;11;2;4;5;11;16\\r\\n11;2020/11/27;18;Celta;10;11;2;4;5;11;20\\r\\n11;2020/11/27;19;Levante;9;11;1;6;4;11;16\\r\\n11;2020/11/27;20;Huesca;7;11;0;7;4;8;17\\r\\n12;2020/12/04;1;Atl\\xc3\\xa9tico de Madrid;30;12;9;3;0;24;3\\r\\n12;2020/12/04;2;R. Sociedad;25;12;7;4;1;22;5\\r\\n12;2020/12/04;3;Real Madrid;23;12;7;2;3;19;12\\r\\n12;2020/12/04;4;Villarreal;21;12;5;6;1;15;11\\r\\n12;2020/12/04;5;Barcelona;20;12;6;2;4;26;13\\r\\n12;2020/12/04;6;Sevilla;19;12;6;1;5;14;11\\r\\n12;2020/12/04;7;C\\xc3\\xa1diz;18;12;5;3;4;11;13\\r\\n12;2020/12/04;8;Granada;18;12;5;3;4;16;20\\r\\n12;2020/12/04;9;Real Betis;15;12;5;0;7;14;23\\r\\n12;2020/12/04;10;Elche;14;12;3;5;4;9;15\\r\\n12;2020/12/04;11;Alav\\xc3\\xa9s;14;12;3;5;4;11;13\\r\\n12;2020/12/04;12;Eibar;14;12;3;5;4;8;9\\r\\n12;2020/12/04;13;Celta;13;12;3;4;5;13;20\\r\\n12;2020/12/04;14;Athletic;13;12;4;1;7;14;15\\r\\n12;2020/12/04;15;Getafe;13;12;3;4;5;9;15\\r\\n12;2020/12/04;16;Valencia;13;12;3;4;5;17;17\\r\\n12;2020/12/04;17;Levante;12;12;2;6;4;14;16\\r\\n12;2020/12/04;18;Osasuna;11;12;3;2;7;8;17\\r\\n12;2020/12/04;19;Real Valladolid;10;12;2;4;6;11;18\\r\\n12;2020/12/04;20;Huesca;8;12;0;8;4;11;20\\r\\n13;2020/12/11;1;Atl\\xc3\\xa9tico de Madrid;30;13;9;3;1;24;5\\r\\n13;2020/12/11;2;R. Sociedad;26;13;7;5;1;23;6\\r\\n13;2020/12/11;3;Real Madrid;26;13;8;2;3;21;12\\r\\n13;2020/12/11;4;Barcelona;23;13;7;2;4;27;13\\r\\n13;2020/12/11;5;Villarreal;22;13;5;7;1;16;12\\r\\n13;2020/12/11;6;Sevilla;22;13;7;1;5;15;11\\r\\n13;2020/12/11;7;Granada;21;13;6;3;4;17;20\\r\\n13;2020/12/11;8;C\\xc3\\xa1diz;18;13;5;3;5;11;17\\r\\n13;2020/12/11;9;Real Betis;16;13;5;1;7;15;24\\r\\n13;2020/12/11;10;Celta;16;13;4;4;5;17;20\\r\\n13;2020/12/11;11;Eibar;15;13;3;6;4;9;10\\r\\n13;2020/12/11;12;Alav\\xc3\\xa9s;14;13;3;5;5;11;14\\r\\n13;2020/12/11;13;Elche;14;13;3;5;5;9;16\\r\\n13;2020/12/11;14;Valencia;14;13;3;5;5;19;19\\r\\n13;2020/12/11;15;Athletic;14;13;4;2;7;16;17\\r\\n13;2020/12/11;16;Real Valladolid;13;13;3;4;6;14;20\\r\\n13;2020/12/11;17;Getafe;13;13;3;4;6;9;16\\r\\n13;2020/12/11;18;Levante;12;13;2;6;5;14;17\\r\\n13;2020/12/11;19;Huesca;11;13;1;8;4;12;20\\r\\n13;2020/12/11;20;Osasuna;11;13;3;2;8;10;20\\r\\n14;2020/12/18;1;Atl\\xc3\\xa9tico de Madrid;33;14;10;3;1;27;6\\r\\n14;2020/12/18;2;Real Madrid;29;14;9;2;3;24;13\\r\\n14;2020/12/18;3;R. Sociedad;26;14;7;5;2;24;8\\r\\n14;2020/12/18;4;Villarreal;25;14;6;7;1;19;13\\r\\n14;2020/12/18;5;Barcelona;24;14;7;3;4;29;15\\r\\n14;2020/12/18;6;Granada;24;14;7;3;4;19;20\\r\\n14;2020/12/18;7;Sevilla;23;14;7;2;5;16;12\\r\\n14;2020/12/18;8;Celta;19;14;5;4;5;19;20\\r\\n14;2020/12/18;9;C\\xc3\\xa1diz;18;14;5;3;6;11;19\\r\\n14;2020/12/18;10;Athletic;17;14;5;2;7;18;17\\r\\n14;2020/12/18;11;Getafe;16;14;4;4;6;11;16\\r\\n14;2020/12/18;12;Real Betis;16;14;5;1;8;15;26\\r\\n14;2020/12/18;13;Levante;15;14;3;6;5;16;18\\r\\n14;2020/12/18;14;Valencia;15;14;3;6;5;21;21\\r\\n14;2020/12/18;15;Eibar;15;14;3;6;5;10;13\\r\\n14;2020/12/18;16;Alav\\xc3\\xa9s;14;14;3;5;6;11;16\\r\\n14;2020/12/18;17;Elche;14;14;3;5;6;10;19\\r\\n14;2020/12/18;18;Real Valladolid;14;14;3;5;6;15;21\\r\\n14;2020/12/18;19;Huesca;11;14;1;8;5;12;22\\r\\n14;2020/12/18;20;Osasuna;11;14;3;2;9;11;23\\r\\n15;2020/12/22;1;Atl\\xc3\\xa9tico de Madrid;36;15;11;3;1;29;6\\r\\n15;2020/12/22;2;Real Madrid;32;15;10;2;3;26;13\\r\\n15;2020/12/22;3;Barcelona;27;15;8;3;4;32;15\\r\\n15;2020/12/22;4;Sevilla;26;15;8;2;5;17;12\\r\\n15;2020/12/22;5;Villarreal;26;15;6;8;1;20;14\\r\\n15;2020/12/22;6;R. Sociedad;26;15;7;5;3;24;10\\r\\n15;2020/12/22;7;Granada;24;15;7;3;5;19;22\\r\\n15;2020/12/22;8;Celta;20;15;5;5;5;20;21\\r\\n15;2020/12/22;9;Real Betis;19;15;6;1;8;16;26\\r\\n15;2020/12/22;10;Athletic;18;15;5;3;7;19;18\\r\\n15;2020/12/22;11;C\\xc3\\xa1diz;18;15;5;3;7;11;20\\r\\n15;2020/12/22;12;Alav\\xc3\\xa9s;17;15;4;5;6;13;17\\r\\n15;2020/12/22;13;Getafe;17;15;4;5;6;12;17\\r\\n15;2020/12/22;14;Levante;16;15;3;7;5;17;19\\r\\n15;2020/12/22;15;Elche;15;15;3;6;6;12;21\\r\\n15;2020/12/22;16;Valencia;15;15;3;6;6;21;22\\r\\n15;2020/12/22;17;Eibar;15;15;3;6;6;11;15\\r\\n15;2020/12/22;18;Real Valladolid;14;15;3;5;7;15;24\\r\\n15;2020/12/22;19;Huesca;12;15;1;9;5;13;23\\r\\n15;2020/12/22;20;Osasuna;12;15;3;3;9;13;25\\r\\n16;2020/12/29;1;Atl\\xc3\\xa9tico de Madrid;39;16;12;3;1;30;6\\r\\n16;2020/12/29;2;Real Madrid;33;16;10;3;3;27;14\\r\\n16;2020/12/29;3;Sevilla;29;16;9;2;5;19;12\\r\\n16;2020/12/29;4;R. Sociedad;29;16;8;5;3;25;10\\r\\n16;2020/12/29;5;Barcelona;28;16;8;4;4;33;16\\r\\n16;2020/12/29;6;Granada;27;16;8;3;5;21;23\\r\\n16;2020/12/29;7;Villarreal;26;16;6;8;2;20;16\\r\\n16;2020/12/29;8;Celta;23;16;6;5;5;22;22\\r\\n16;2020/12/29;9;Real Betis;19;16;6;1;9;19;30\\r\\n16;2020/12/29;10;Levante;19;16;4;7;5;21;22\\r\\n16;2020/12/29;11;C\\xc3\\xa1diz;19;16;5;4;7;11;20\\r\\n16;2020/12/29;12;Alav\\xc3\\xa9s;18;16;4;6;6;14;18\\r\\n16;2020/12/29;13;Athletic;18;16;5;3;8;19;19\\r\\n16;2020/12/29;14;Getafe;17;16;4;5;7;12;18\\r\\n16;2020/12/29;15;Elche;16;16;3;7;6;13;22\\r\\n16;2020/12/29;16;Eibar;16;16;3;7;6;12;16\\r\\n16;2020/12/29;17;Valencia;15;16;3;6;7;22;24\\r\\n16;2020/12/29;18;Real Valladolid;15;16;3;6;7;15;24\\r\\n16;2020/12/29;19;Osasuna;13;16;3;4;9;14;26\\r\\n16;2020/12/29;20;Huesca;12;16;1;9;6;14;25\\r\\n17;2021/01/02;1;Atl\\xc3\\xa9tico de Madrid;42;17;13;3;1;32;7\\r\\n17;2021/01/02;2;Real Madrid;36;17;11;3;3;29;14\\r\\n17;2021/01/02;3;Barcelona;31;17;9;4;4;34;16\\r\\n17;2021/01/02;4;Sevilla;30;17;9;3;5;20;13\\r\\n17;2021/01/02;5;R. Sociedad;30;17;8;6;3;26;11\\r\\n17;2021/01/02;6;Villarreal;29;17;7;8;2;22;17\\r\\n17;2021/01/02;7;Granada;27;17;8;3;6;21;25\\r\\n17;2021/01/02;8;Celta;23;17;6;5;6;22;24\\r\\n17;2021/01/02;9;Athletic;21;17;6;3;8;20;19\\r\\n17;2021/01/02;10;Real Betis;20;17;6;2;9;20;31\\r\\n17;2021/01/02;11;C\\xc3\\xa1diz;20;17;5;5;7;12;21\\r\\n17;2021/01/02;12;Levante;19;17;4;7;6;22;24\\r\\n17;2021/01/02;13;Eibar;19;17;4;7;6;14;16\\r\\n17;2021/01/02;14;Alav\\xc3\\xa9s;18;17;4;6;7;15;20\\r\\n17;2021/01/02;15;Real Valladolid;18;17;4;6;7;16;24\\r\\n17;2021/01/02;16;Getafe;17;17;4;5;8;12;19\\r\\n17;2021/01/02;17;Valencia;16;17;3;7;7;23;25\\r\\n17;2021/01/02;18;Elche;16;17;3;7;7;13;23\\r\\n17;2021/01/02;19;Osasuna;14;17;3;5;9;15;27\\r\\n17;2021/01/02;20;Huesca;12;17;1;9;7;14;26\\r\\n18;2021/01/08;1;Atl\\xc3\\xa9tico de Madrid;45;18;14;3;1;34;8\\r\\n18;2021/01/08;2;Real Madrid;37;18;11;4;3;29;14\\r\\n18;2021/01/08;3;Barcelona;34;18;10;4;4;38;16\\r\\n18;2021/01/08;4;Sevilla;33;18;10;3;5;23;15\\r\\n18;2021/01/08;5;Villarreal;32;18;8;8;2;26;17\\r\\n18;2021/01/08;6;R. Sociedad;30;18;8;6;4;28;14\\r\\n18;2021/01/08;7;Granada;27;18;8;3;7;21;29\\r\\n18;2021/01/08;8;Real Betis;23;18;7;2;9;22;31\\r\\n18;2021/01/08;9;Celta;23;18;6;5;7;22;28\\r\\n18;2021/01/08;10;C\\xc3\\xa1diz;23;18;6;5;7;15;22\\r\\n18;2021/01/08;11;Levante;22;18;5;7;6;24;25\\r\\n18;2021/01/08;12;Athletic;21;18;6;3;9;21;21\\r\\n18;2021/01/08;13;Getafe;20;18;5;5;8;15;20\\r\\n18;2021/01/08;14;Valencia;19;18;4;7;7;24;25\\r\\n18;2021/01/08;15;Eibar;19;18;4;7;7;15;18\\r\\n18;2021/01/08;16;Alav\\xc3\\xa9s;18;18;4;6;8;16;23\\r\\n18;2021/01/08;17;Real Valladolid;18;18;4;6;8;16;25\\r\\n18;2021/01/08;18;Elche;16;18;3;7;8;14;26\\r\\n18;2021/01/08;19;Osasuna;15;18;3;6;9;15;27\\r\\n18;2021/01/08;20;Huesca;12;18;1;9;8;14;28\\r\\n19;2021/01/15;1;Atl\\xc3\\xa9tico de Madrid;48;19;15;3;1;36;9\\r\\n19;2021/01/15;2;Real Madrid;40;19;12;4;3;32;15\\r\\n19;2021/01/15;3;Barcelona;37;19;11;4;4;40;17\\r\\n19;2021/01/15;4;Sevilla;36;19;11;3;5;25;16\\r\\n19;2021/01/15;5;Villarreal;33;19;8;9;2;28;19\\r\\n19;2021/01/15;6;R. Sociedad;30;19;8;6;5;29;16\\r\\n19;2021/01/15;7;Granada;28;19;8;4;7;23;31\\r\\n19;2021/01/15;8;Real Betis;26;19;8;2;9;24;32\\r\\n19;2021/01/15;9;C\\xc3\\xa1diz;24;19;6;6;7;17;24\\r\\n19;2021/01/15;10;Celta;23;19;6;5;8;23;30\\r\\n19;2021/01/15;11;Levante;23;19;5;8;6;26;27\\r\\n19;2021/01/15;12;Getafe;23;19;6;5;8;16;20\\r\\n19;2021/01/15;13;Athletic;21;19;6;3;10;22;24\\r\\n19;2021/01/15;14;Valencia;20;19;4;8;7;25;26\\r\\n19;2021/01/15;15;Eibar;19;19;4;7;8;16;20\\r\\n19;2021/01/15;16;Real Valladolid;19;19;4;7;8;18;27\\r\\n19;2021/01/15;17;Alav\\xc3\\xa9s;18;19;4;6;9;17;25\\r\\n19;2021/01/15;18;Elche;17;19;3;8;8;16;28\\r\\n19;2021/01/15;19;Osasuna;16;19;3;7;9;16;28\\r\\n19;2021/01/15;20;Huesca;12;19;1;9;9;14;29\\r\\n20;2021/01/22;1;Atl\\xc3\\xa9tico de Madrid;51;20;16;3;1;39;10\\r\\n20;2021/01/22;2;Real Madrid;43;20;13;4;3;36;16\\r\\n20;2021/01/22;3;Barcelona;40;20;12;4;4;42;17\\r\\n20;2021/01/22;4;Sevilla;39;20;12;3;5;28;16\\r\\n20;2021/01/22;5;Villarreal;34;20;8;10;2;28;19\\r\\n20;2021/01/22;6;R. Sociedad;31;20;8;7;5;31;18\\r\\n20;2021/01/22;7;Granada;28;20;8;4;8;24;34\\r\\n20;2021/01/22;8;Real Betis;27;20;8;3;9;26;34\\r\\n20;2021/01/22;9;Celta;24;20;6;6;8;24;31\\r\\n20;2021/01/22;10;Athletic;24;20;7;3;10;27;25\\r\\n20;2021/01/22;11;C\\xc3\\xa1diz;24;20;6;6;8;17;27\\r\\n20;2021/01/22;12;Levante;24;20;5;9;6;28;29\\r\\n20;2021/01/22;13;Getafe;23;20;6;5;9;17;25\\r\\n20;2021/01/22;14;Valencia;20;20;4;8;8;26;29\\r\\n20;2021/01/22;15;Eibar;20;20;4;8;8;17;21\\r\\n20;2021/01/22;16;Real Valladolid;20;20;4;8;8;20;29\\r\\n20;2021/01/22;17;Osasuna;19;20;4;7;9;19;29\\r\\n20;2021/01/22;18;Alav\\xc3\\xa9s;18;20;4;6;10;18;29\\r\\n20;2021/01/22;19;Elche;17;20;3;8;9;16;30\\r\\n20;2021/01/22;20;Huesca;13;20;1;10;9;14;29\\r\\n21;2021/01/29;1;Atl\\xc3\\xa9tico de Madrid;54;21;17;3;1;43;12\\r\\n21;2021/01/29;2;Real Madrid;43;21;13;4;4;37;18\\r\\n21;2021/01/29;3;Barcelona;43;21;13;4;4;44;18\\r\\n21;2021/01/29;4;Sevilla;42;21;13;3;5;30;16\\r\\n21;2021/01/29;5;Villarreal;35;21;8;11;2;29;20\\r\\n21;2021/01/29;6;R. Sociedad;32;21;8;8;5;32;19\\r\\n21;2021/01/29;7;Real Betis;30;21;9;3;9;27;34\\r\\n21;2021/01/29;8;Granada;29;21;8;5;8;24;34\\r\\n21;2021/01/29;9;Levante;27;21;6;9;6;30;30\\r\\n21;2021/01/29;10;Celta;25;21;6;7;8;24;31\\r\\n21;2021/01/29;11;Athletic;24;21;7;3;11;28;27\\r\\n21;2021/01/29;12;C\\xc3\\xa1diz;24;21;6;6;9;19;31\\r\\n21;2021/01/29;13;Getafe;24;21;6;6;9;17;25\\r\\n21;2021/01/29;14;Valencia;23;21;5;8;8;27;29\\r\\n21;2021/01/29;15;Eibar;20;21;4;8;9;17;23\\r\\n21;2021/01/29;16;Real Valladolid;20;21;4;8;9;21;32\\r\\n21;2021/01/29;17;Osasuna;19;21;4;7;10;19;30\\r\\n21;2021/01/29;18;Alav\\xc3\\xa9s;19;21;4;7;10;18;29\\r\\n21;2021/01/29;19;Elche;17;21;3;8;10;16;31\\r\\n21;2021/01/29;20;Huesca;16;21;2;10;9;17;30\\r\\n22;2021/02/05;1;Atl\\xc3\\xa9tico de Madrid;55;22;17;4;1;45;14\\r\\n22;2021/02/05;2;Real Madrid;46;22;14;4;4;39;19\\r\\n22;2021/02/05;3;Barcelona;46;22;14;4;4;47;20\\r\\n22;2021/02/05;4;Sevilla;45;22;14;3;5;33;16\\r\\n22;2021/02/05;5;Villarreal;36;22;8;12;2;31;22\\r\\n22;2021/02/05;6;R. Sociedad;35;22;9;8;5;36;20\\r\\n22;2021/02/05;7;Granada;30;22;8;6;8;26;36\\r\\n22;2021/02/05;8;Real Betis;30;22;9;3;10;29;37\\r\\n22;2021/02/05;9;Levante;28;22;6;10;6;32;32\\r\\n22;2021/02/05;10;Celta;26;22;6;8;8;26;33\\r\\n22;2021/02/05;11;Athletic;25;22;7;4;11;29;28\\r\\n22;2021/02/05;12;Getafe;24;22;6;6;10;17;28\\r\\n22;2021/02/05;13;C\\xc3\\xa1diz;24;22;6;6;10;20;35\\r\\n22;2021/02/05;14;Valencia;24;22;5;9;8;28;30\\r\\n22;2021/02/05;15;Osasuna;22;22;5;7;10;21;31\\r\\n22;2021/02/05;16;Alav\\xc3\\xa9s;22;22;5;7;10;19;29\\r\\n22;2021/02/05;17;Eibar;20;22;4;8;10;18;25\\r\\n22;2021/02/05;18;Real Valladolid;20;22;4;8;10;21;33\\r\\n22;2021/02/05;19;Elche;18;22;3;9;10;18;33\\r\\n22;2021/02/05;20;Huesca;16;22;2;10;10;18;32\\r\\n23;2021/02/12;1;Atl\\xc3\\xa9tico de Madrid;58;23;18;4;1;47;15\\r\\n23;2021/02/12;2;Real Madrid;49;23;15;4;4;41;19\\r\\n23;2021/02/12;3;Barcelona;49;23;15;4;4;52;21\\r\\n23;2021/02/12;4;Sevilla;48;23;15;3;5;34;16\\r\\n23;2021/02/12;5;R. Sociedad;38;23;10;8;5;37;20\\r\\n23;2021/02/12;6;Villarreal;36;23;8;12;3;32;24\\r\\n23;2021/02/12;7;Real Betis;33;23;10;3;10;31;38\\r\\n23;2021/02/12;8;Granada;30;23;8;6;9;27;38\\r\\n23;2021/02/12;9;Celta;29;23;7;8;8;29;34\\r\\n23;2021/02/12;10;Athletic;28;23;8;4;11;33;28\\r\\n23;2021/02/12;11;Levante;28;23;6;10;7;32;33\\r\\n23;2021/02/12;12;Osasuna;25;23;6;7;10;22;31\\r\\n23;2021/02/12;13;Getafe;24;23;6;6;11;17;29\\r\\n23;2021/02/12;14;C\\xc3\\xa1diz;24;23;6;6;11;20;39\\r\\n23;2021/02/12;15;Valencia;24;23;5;9;9;28;32\\r\\n23;2021/02/12;16;Alav\\xc3\\xa9s;22;23;5;7;11;20;34\\r\\n23;2021/02/12;17;Eibar;21;23;4;9;10;19;26\\r\\n23;2021/02/12;18;Real Valladolid;21;23;4;9;10;22;34\\r\\n23;2021/02/12;19;Elche;18;23;3;9;11;19;36\\r\\n23;2021/02/12;20;Huesca;16;23;2;10;11;18;33\\r\\n24;2021/02/19;1;Atl\\xc3\\xa9tico de Madrid;58;24;18;4;2;47;17\\r\\n24;2021/02/19;2;Real Madrid;52;24;16;4;4;42;19\\r\\n24;2021/02/19;3;Sevilla;51;24;16;3;5;36;16\\r\\n24;2021/02/19;4;Barcelona;50;24;15;5;4;53;22\\r\\n24;2021/02/19;5;R. Sociedad;41;24;11;8;5;41;20\\r\\n24;2021/02/19;6;Villarreal;37;24;8;13;3;33;25\\r\\n24;2021/02/19;7;Real Betis;36;24;11;3;10;32;38\\r\\n24;2021/02/19;8;Levante;31;24;7;10;7;34;33\\r\\n24;2021/02/19;9;Granada;30;24;8;6;10;29;41\\r\\n24;2021/02/19;10;Celta;29;24;7;8;9;29;36\\r\\n24;2021/02/19;11;Athletic;29;24;8;5;11;34;29\\r\\n24;2021/02/19;12;Valencia;27;24;6;9;9;30;32\\r\\n24;2021/02/19;13;Osasuna;25;24;6;7;11;22;33\\r\\n24;2021/02/19;14;C\\xc3\\xa1diz;25;24;6;7;11;21;40\\r\\n24;2021/02/19;15;Getafe;24;24;6;6;12;17;30\\r\\n24;2021/02/19;16;Alav\\xc3\\xa9s;22;24;5;7;12;20;38\\r\\n24;2021/02/19;17;Elche;21;24;4;9;11;20;36\\r\\n24;2021/02/19;18;Eibar;21;24;4;9;11;19;27\\r\\n24;2021/02/19;19;Real Valladolid;21;24;4;9;11;22;35\\r\\n24;2021/02/19;20;Huesca;19;24;3;10;11;21;35\\r\\n25;2021/01/26;1;Atl\\xc3\\xa9tico de Madrid;61;25;19;4;2;49;17\\r\\n25;2021/01/26;2;Real Madrid;53;25;16;5;4;43;20\\r\\n25;2021/01/26;3;Barcelona;53;25;16;5;4;55;22\\r\\n25;2021/01/26;4;Sevilla;51;25;16;3;6;36;18\\r\\n25;2021/01/26;5;R. Sociedad;42;25;11;9;5;42;21\\r\\n25;2021/01/26;6;Real Betis;39;25;12;3;10;33;38\\r\\n25;2021/01/26;7;Villarreal;37;25;8;13;4;33;27\\r\\n25;2021/01/26;8;Granada;33;25;9;6;10;31;42\\r\\n25;2021/01/26;9;Levante;32;25;7;11;7;35;34\\r\\n25;2021/01/26;10;Celta;30;25;7;9;9;30;37\\r\\n25;2021/01/26;11;Athletic;30;25;8;6;11;35;30\\r\\n25;2021/01/26;12;Osasuna;28;25;7;7;11;23;33\\r\\n25;2021/01/26;13;Getafe;27;25;7;6;12;20;30\\r\\n25;2021/01/26;14;Valencia;27;25;6;9;10;30;35\\r\\n25;2021/01/26;15;C\\xc3\\xa1diz;25;25;6;7;12;21;41\\r\\n25;2021/01/26;16;Alav\\xc3\\xa9s;22;25;5;7;13;20;39\\r\\n25;2021/01/26;17;Eibar;22;25;4;10;11;20;28\\r\\n25;2021/01/26;18;Real Valladolid;22;25;4;10;11;23;36\\r\\n25;2021/01/26;19;Elche;21;25;4;9;12;21;38\\r\\n25;2021/01/26;20;Huesca;20;25;3;11;11;22;36\\r\\n26;2021/03/05;1;Atl\\xc3\\xa9tico de Madrid;62;26;19;5;2;50;18\\r\\n26;2021/03/05;2;Barcelona;56;26;17;5;4;57;22\\r\\n26;2021/03/05;3;Real Madrid;54;26;16;6;4;44;21\\r\\n26;2021/03/05;4;Sevilla;51;26;16;3;7;37;20\\r\\n26;2021/03/05;5;R. Sociedad;45;26;12;9;5;43;21\\r\\n26;2021/03/05;6;Real Betis;42;26;13;3;10;36;40\\r\\n26;2021/03/05;7;Villarreal;37;26;8;13;5;34;29\\r\\n26;2021/03/05;8;Celta;33;26;8;9;9;34;40\\r\\n26;2021/03/05;9;Granada;33;26;9;6;11;32;44\\r\\n26;2021/03/05;10;Athletic;33;26;9;6;11;37;31\\r\\n26;2021/03/05;11;Levante;32;26;7;11;8;35;35\\r\\n26;2021/03/05;12;Valencia;30;26;7;9;10;32;36\\r\\n26;2021/03/05;13;Osasuna;28;26;7;7;12;23;35\\r\\n26;2021/03/05;14;C\\xc3\\xa1diz;28;26;7;7;12;22;41\\r\\n26;2021/03/05;15;Getafe;27;26;7;6;13;21;32\\r\\n26;2021/03/05;16;Real Valladolid;25;26;5;10;11;25;37\\r\\n26;2021/03/05;17;Elche;24;26;5;9;12;23;39\\r\\n26;2021/03/05;18;Eibar;22;26;4;10;12;20;29\\r\\n26;2021/03/05;19;Alav\\xc3\\xa9s;22;26;5;7;14;22;42\\r\\n26;2021/03/05;20;Huesca;20;26;3;11;12;25;40\\r\\n27;2021/03/12;1;Atl\\xc3\\xa9tico de Madrid;63;27;19;6;2;50;18\\r\\n27;2021/03/12;2;Barcelona;59;27;18;5;4;61;23\\r\\n27;2021/03/12;3;Real Madrid;57;27;17;6;4;46;22\\r\\n27;2021/03/12;4;Sevilla;54;27;17;3;7;38;20\\r\\n27;2021/03/12;5;R. Sociedad;45;27;12;9;6;43;22\\r\\n27;2021/03/12;6;Real Betis;42;27;13;3;11;36;41\\r\\n27;2021/03/12;7;Villarreal;40;27;9;13;5;37;30\\r\\n27;2021/03/12;8;Granada;36;27;10;6;11;33;44\\r\\n27;2021/03/12;9;Levante;35;27;8;11;8;36;35\\r\\n27;2021/03/12;10;Celta;34;27;8;10;9;34;40\\r\\n27;2021/03/12;11;Athletic;34;27;9;7;11;37;31\\r\\n27;2021/03/12;12;Valencia;30;27;7;9;11;32;37\\r\\n27;2021/03/12;13;Osasuna;29;27;7;8;12;23;35\\r\\n27;2021/03/12;14;C\\xc3\\xa1diz;29;27;7;8;12;23;42\\r\\n27;2021/03/12;15;Getafe;28;27;7;7;13;21;32\\r\\n27;2021/03/12;16;Real Valladolid;26;27;5;11;11;25;37\\r\\n27;2021/03/12;17;Elche;24;27;5;9;13;24;41\\r\\n27;2021/03/12;18;Alav\\xc3\\xa9s;23;27;5;8;14;23;43\\r\\n27;2021/03/12;19;Eibar;22;27;4;10;13;21;32\\r\\n27;2021/03/12;20;Huesca;20;27;3;11;13;26;44\\r\\n28;2021/03/19;1;Atl\\xc3\\xa9tico de Madrid;66;28;20;6;2;51;18\\r\\n28;2021/03/19;2;Barcelona;62;28;19;5;4;67;24\\r\\n28;2021/03/19;3;Real Madrid;60;28;18;6;4;49;23\\r\\n28;2021/03/19;4;Sevilla;55;28;17;4;7;39;21\\r\\n28;2021/03/19;5;R. Sociedad;45;28;12;9;7;44;28\\r\\n28;2021/03/19;6;Real Betis;45;28;14;3;11;38;41\\r\\n28;2021/03/19;7;Villarreal;43;28;10;13;5;39;31\\r\\n28;2021/03/19;8;Granada;36;28;10;6;12;34;46\\r\\n28;2021/03/19;9;Athletic;35;28;9;8;11;38;32\\r\\n28;2021/03/19;10;Levante;35;28;8;11;9;36;37\\r\\n28;2021/03/19;11;Celta;34;28;8;10;10;35;43\\r\\n28;2021/03/19;12;Valencia;33;28;8;9;11;34;38\\r\\n28;2021/03/19;13;Osasuna;30;28;7;9;12;23;35\\r\\n28;2021/03/19;14;Getafe;29;28;7;8;13;22;33\\r\\n28;2021/03/19;15;C\\xc3\\xa1diz;29;28;7;8;13;24;44\\r\\n28;2021/03/19;16;Real Valladolid;27;28;5;12;11;26;38\\r\\n28;2021/03/19;17;Elche;25;28;5;10;13;25;42\\r\\n28;2021/03/19;18;Eibar;23;28;4;11;13;22;33\\r\\n28;2021/03/19;19;Alav\\xc3\\xa9s;23;28;5;8;15;23;44\\r\\n28;2021/03/19;20;Huesca;21;28;3;12;13;26;44\\r\\n29;2021/04/02;1;Atl\\xc3\\xa9tico de Madrid;66;29;20;6;3;51;19\\r\\n29;2021/04/02;2;Barcelona;65;29;20;5;4;68;24\\r\\n29;2021/04/02;3;Real Madrid;63;29;19;6;4;51;23\\r\\n29;2021/04/02;4;Sevilla;58;29;18;4;7;40;21\\r\\n29;2021/04/02;5;R. Sociedad;46;29;12;10;7;45;29\\r\\n29;2021/04/02;6;Real Betis;46;29;14;4;11;39;42\\r\\n29;2021/04/02;7;Villarreal;46;29;11;13;5;42;31\\r\\n29;2021/04/02;8;Celta;37;29;9;10;10;38;44\\r\\n29;2021/04/02;9;Granada;36;29;10;6;13;34;49\\r\\n29;2021/04/02;10;Athletic;36;29;9;9;11;39;33\\r\\n29;2021/04/02;11;Levante;35;29;8;11;10;36;39\\r\\n29;2021/04/02;12;Valencia;33;29;8;9;12;35;40\\r\\n29;2021/04/02;13;C\\xc3\\xa1diz;32;29;8;8;13;26;45\\r\\n29;2021/04/02;14;Osasuna;31;29;7;10;12;23;35\\r\\n29;2021/04/02;15;Getafe;30;29;7;9;13;22;33\\r\\n29;2021/04/02;16;Real Valladolid;27;29;5;12;12;26;39\\r\\n29;2021/04/02;17;Elche;26;29;5;11;13;26;43\\r\\n29;2021/04/02;18;Huesca;24;29;4;12;13;28;44\\r\\n29;2021/04/02;19;Eibar;23;29;4;11;14;22;35\\r\\n29;2021/04/02;20;Alav\\xc3\\xa9s;23;29;5;8;16;24;47\\r\\n30;2021/04/09;1;Atl\\xc3\\xa9tico de Madrid;67;30;20;7;3;52;20\\r\\n30;2021/04/09;2;Real Madrid;66;30;20;6;4;53;24\\r\\n30;2021/04/09;3;Barcelona;65;30;20;5;5;69;26\\r\\n30;2021/04/09;4;Sevilla;61;30;19;4;7;44;24\\r\\n30;2021/04/09;5;R. Sociedad;47;30;12;11;7;47;31\\r\\n30;2021/04/09;6;Real Betis;47;30;14;5;11;40;43\\r\\n30;2021/04/09;7;Villarreal;46;30;11;13;6;43;33\\r\\n30;2021/04/09;8;Granada;39;30;11;6;13;36;50\\r\\n30;2021/04/09;9;Levante;38;30;9;11;10;37;39\\r\\n30;2021/04/09;10;Celta;37;30;9;10;11;41;48\\r\\n30;2021/04/09;11;Athletic;37;30;9;10;11;39;33\\r\\n30;2021/04/09;12;C\\xc3\\xa1diz;35;30;9;8;13;27;45\\r\\n30;2021/04/09;13;Osasuna;34;30;8;10;12;25;36\\r\\n30;2021/04/09;14;Valencia;34;30;8;10;12;37;42\\r\\n30;2021/04/09;15;Getafe;30;30;7;9;14;22;34\\r\\n30;2021/04/09;16;Huesca;27;30;5;12;13;31;45\\r\\n30;2021/04/09;17;Real Valladolid;27;30;5;12;13;27;41\\r\\n30;2021/04/09;18;Elche;26;30;5;11;14;27;46\\r\\n30;2021/04/09;19;Alav\\xc3\\xa9s;24;30;5;9;16;24;47\\r\\n30;2021/04/09;20;Eibar;23;30;4;11;15;22;36\\r\\n31;2021/04/21;1;Atl\\xc3\\xa9tico de Madrid;70;31;21;7;3;54;20\\r\\n31;2021/04/21;2;Real Madrid;69;31;21;6;4;56;24\\r\\n31;2021/04/21;3;Barcelona;68;31;21;5;5;74;28\\r\\n31;2021/04/21;4;Sevilla;64;31;20;4;7;45;24\\r\\n31;2021/04/21;5;R. Sociedad;50;31;13;11;7;49;32\\r\\n31;2021/04/21;6;Real Betis;48;31;14;6;11;40;43\\r\\n31;2021/04/21;7;Villarreal;46;31;11;13;7;44;35\\r\\n31;2021/04/21;8;Granada;42;31;12;6;13;40;51\\r\\n31;2021/04/21;9;Athletic;38;31;9;11;11;39;33\\r\\n31;2021/04/21;10;Levante;38;31;9;11;11;37;40\\r\\n31;2021/04/21;11;Osasuna;37;31;9;10;12;28;37\\r\\n31;2021/04/21;12;Celta;37;31;9;10;12;42;50\\r\\n31;2021/04/21;13;C\\xc3\\xa1diz;35;31;9;8;14;27;48\\r\\n31;2021/04/21;14;Valencia;34;31;8;10;13;38;45\\r\\n31;2021/04/21;15;Getafe;30;31;7;9;15;24;39\\r\\n31;2021/04/21;16;Real Valladolid;28;31;5;13;13;28;42\\r\\n31;2021/04/21;17;Huesca;27;31;5;12;14;31;47\\r\\n31;2021/04/21;18;Alav\\xc3\\xa9s;27;31;6;9;16;26;48\\r\\n31;2021/04/21;19;Elche;27;31;5;12;14;28;47\\r\\n31;2021/04/21;20;Eibar;23;31;4;11;16;23;40\\r\\n32;2021/04/24;1;Barcelona;71;32;22;5;5;76;29\\r\\n32;2021/04/24;2;Real Madrid;70;32;21;7;4;56;24\\r\\n32;2021/04/24;3;Atl\\xc3\\xa9tico de Madrid;70;32;21;7;4;55;22\\r\\n32;2021/04/24;4;Sevilla;67;32;21;4;7;47;25\\r\\n32;2021/04/24;5;R. Sociedad;53;32;14;11;7;50;32\\r\\n32;2021/04/24;6;Real Betis;49;32;14;7;11;40;43\\r\\n32;2021/04/24;7;Villarreal;46;32;11;13;8;45;37\\r\\n32;2021/04/24;8;Granada;42;32;12;6;14;41;53\\r\\n32;2021/04/24;9;Athletic;41;32;10;11;11;41;34\\r\\n32;2021/04/24;10;Celta;40;32;10;10;12;44;51\\r\\n32;2021/04/24;11;Levante;38;32;9;11;12;37;41\\r\\n32;2021/04/24;12;Osasuna;37;32;9;10;13;29;39\\r\\n32;2021/04/24;13;C\\xc3\\xa1diz;36;32;9;9;14;28;49\\r\\n32;2021/04/24;14;Valencia;35;32;8;11;13;39;46\\r\\n32;2021/04/24;15;Getafe;33;32;8;9;15;26;39\\r\\n32;2021/04/24;16;Elche;30;32;6;12;14;29;47\\r\\n32;2021/04/24;17;Real Valladolid;29;32;5;14;13;29;43\\r\\n32;2021/04/24;18;Alav\\xc3\\xa9s;28;32;6;10;16;27;49\\r\\n32;2021/04/24;19;Huesca;27;32;5;12;15;31;49\\r\\n32;2021/04/24;20;Eibar;23;32;4;11;17;23;41\\r\\n33;2021/04/29;1;Atl\\xc3\\xa9tico de Madrid;73;33;22;7;4;60;22\\r\\n33;2021/04/29;2;Real Madrid;71;33;21;8;4;56;24\\r\\n33;2021/04/29;3;Barcelona;71;33;22;5;6;77;31\\r\\n33;2021/04/29;4;Sevilla;70;33;22;4;7;49;26\\r\\n33;2021/04/29;5;R. Sociedad;53;33;14;11;8;51;34\\r\\n33;2021/04/29;6;Real Betis;50;33;14;8;11;42;45\\r\\n33;2021/04/29;7;Villarreal;49;33;12;13;8;50;38\\r\\n33;2021/04/29;8;Granada;45;33;13;6;14;43;54\\r\\n33;2021/04/29;9;Athletic;42;33;10;12;11;43;36\\r\\n33;2021/04/29;10;Celta;41;33;10;11;12;44;51\\r\\n33;2021/04/29;11;Osasuna;40;33;10;10;13;31;39\\r\\n33;2021/04/29;12;Levante;38;33;9;11;13;38;46\\r\\n33;2021/04/29;13;C\\xc3\\xa1diz;37;33;9;10;14;28;49\\r\\n33;2021/04/29;14;Valencia;36;33;8;12;13;41;48\\r\\n33;2021/04/29;15;Getafe;34;33;8;10;15;26;39\\r\\n33;2021/04/29;16;Alav\\xc3\\xa9s;31;33;7;10;16;28;49\\r\\n33;2021/04/29;17;Real Valladolid;30;33;5;15;13;31;45\\r\\n33;2021/04/29;18;Elche;30;33;6;12;15;29;49\\r\\n33;2021/04/29;19;Huesca;27;33;5;12;16;31;50\\r\\n33;2021/04/29;20;Eibar;23;33;4;11;18;23;46\\r\\n34;2021/04/30;1;Atl\\xc3\\xa9tico de Madrid;76;34;23;7;4;61;22\\r\\n34;2021/04/30;2;Real Madrid;74;34;22;8;4;58;24\\r\\n34;2021/04/30;3;Barcelona;74;34;23;5;6;80;33\\r\\n34;2021/04/30;4;Sevilla;70;34;22;4;8;49;27\\r\\n34;2021/04/30;5;R. Sociedad;53;34;14;11;9;51;35\\r\\n34;2021/04/30;6;Villarreal;52;34;13;13;8;51;38\\r\\n34;2021/04/30;7;Real Betis;51;34;14;9;11;43;46\\r\\n34;2021/04/30;8;Granada;45;34;13;6;15;43;55\\r\\n34;2021/04/30;9;Athletic;45;34;11;12;11;44;36\\r\\n34;2021/04/30;10;Celta;44;34;11;11;12;46;51\\r\\n34;2021/04/30;11;Osasuna;40;34;10;10;14;31;41\\r\\n34;2021/04/30;12;C\\xc3\\xa1diz;40;34;10;10;14;29;49\\r\\n34;2021/04/30;13;Levante;38;34;9;11;14;38;48\\r\\n34;2021/04/30;14;Valencia;36;34;8;12;14;43;51\\r\\n34;2021/04/30;15;Getafe;34;34;8;10;16;26;40\\r\\n34;2021/04/30;16;Alav\\xc3\\xa9s;31;34;7;10;17;28;52\\r\\n34;2021/04/30;17;Real Valladolid;31;34;5;16;13;32;46\\r\\n34;2021/04/30;18;Huesca;30;34;6;12;16;32;50\\r\\n34;2021/04/30;19;Elche;30;34;6;12;16;29;50\\r\\n34;2021/04/30;20;Eibar;26;34;5;11;18;26;46\\r\\n35;2021/05/07;1;Atl\\xc3\\xa9tico de Madrid;77;35;23;8;4;61;22\\r\\n35;2021/05/07;2;Real Madrid;75;35;22;9;4;60;26\\r\\n35;2021/05/07;3;Barcelona;75;35;23;6;6;80;33\\r\\n35;2021/05/07;4;Sevilla;71;35;22;5;8;51;29\\r\\n35;2021/05/07;5;R. Sociedad;56;35;15;11;9;53;35\\r\\n35;2021/05/07;6;Real Betis;54;35;15;9;11;45;47\\r\\n35;2021/05/07;7;Villarreal;52;35;13;13;9;53;42\\r\\n35;2021/05/07;8;Celta;47;35;12;11;12;50;53\\r\\n35;2021/05/07;9;Athletic;46;35;11;13;11;46;38\\r\\n35;2021/05/07;10;Granada;45;35;13;6;16;44;57\\r\\n35;2021/05/07;11;C\\xc3\\xa1diz;43;35;11;10;14;31;50\\r\\n35;2021/05/07;12;Osasuna;41;35;10;11;14;33;43\\r\\n35;2021/05/07;13;Valencia;39;35;9;12;14;46;51\\r\\n35;2021/05/07;14;Levante;39;35;9;12;14;40;50\\r\\n35;2021/05/07;15;Getafe;34;35;8;10;17;26;41\\r\\n35;2021/05/07;16;Alav\\xc3\\xa9s;32;35;7;11;17;30;54\\r\\n35;2021/05/07;17;Real Valladolid;31;35;5;16;14;32;49\\r\\n35;2021/05/07;18;Huesca;30;35;6;12;17;33;52\\r\\n35;2021/05/07;19;Elche;30;35;6;12;17;29;52\\r\\n35;2021/05/07;20;Eibar;29;35;6;11;18;27;46\\r\\n36;2021/05/11;1;Atl\\xc3\\xa9tico de Madrid;80;36;24;8;4;63;23\\r\\n36;2021/05/11;2;Real Madrid;78;36;23;9;4;64;27\\r\\n36;2021/05/11;3;Barcelona;76;36;23;7;6;83;36\\r\\n36;2021/05/11;4;Sevilla;74;36;23;5;8;52;29\\r\\n36;2021/05/11;5;R. Sociedad;56;36;15;11;10;54;37\\r\\n36;2021/05/11;6;Real Betis;55;36;15;10;11;46;48\\r\\n36;2021/05/11;7;Villarreal;55;36;14;13;9;55;42\\r\\n36;2021/05/11;8;Celta;50;36;13;11;12;51;53\\r\\n36;2021/05/11;9;Athletic;46;36;11;13;12;46;39\\r\\n36;2021/05/11;10;Granada;45;36;13;6;17;45;61\\r\\n36;2021/05/11;11;Osasuna;44;36;11;11;14;36;45\\r\\n36;2021/05/11;12;C\\xc3\\xa1diz;43;36;11;10;15;33;53\\r\\n36;2021/05/11;13;Levante;40;36;9;13;14;43;53\\r\\n36;2021/05/11;14;Valencia;39;36;9;12;15;46;52\\r\\n36;2021/05/11;15;Alav\\xc3\\xa9s;35;36;8;11;17;32;54\\r\\n36;2021/05/11;16;Getafe;34;36;8;10;18;26;42\\r\\n36;2021/05/11;17;Huesca;33;36;7;12;17;34;52\\r\\n36;2021/05/11;18;Real Valladolid;31;36;5;16;15;32;51\\r\\n36;2021/05/11;19;Elche;30;36;6;12;18;29;54\\r\\n36;2021/05/11;20;Eibar;30;36;6;12;18;28;47\\r\\n37;2021/05/16;1;Atl\\xc3\\xa9tico de Madrid;83;37;25;8;4;65;24\\r\\n37;2021/05/16;2;Real Madrid;81;37;24;9;4;65;27\\r\\n37;2021/05/16;3;Barcelona;76;37;23;7;7;84;38\\r\\n37;2021/05/16;4;Sevilla;74;37;23;5;9;52;33\\r\\n37;2021/05/16;5;R. Sociedad;59;37;16;11;10;58;38\\r\\n37;2021/05/16;6;Real Betis;58;37;16;10;11;47;48\\r\\n37;2021/05/16;7;Villarreal;58;37;15;13;9;59;42\\r\\n37;2021/05/16;8;Celta;53;37;14;11;12;53;54\\r\\n37;2021/05/16;9;Athletic;46;37;11;13;13;46;40\\r\\n37;2021/05/16;10;Granada;45;37;13;6;18;47;65\\r\\n37;2021/05/16;11;Osasuna;44;37;11;11;15;37;47\\r\\n37;2021/05/16;12;C\\xc3\\xa1diz;43;37;11;10;16;34;56\\r\\n37;2021/05/16;13;Valencia;42;37;10;12;15;50;53\\r\\n37;2021/05/16;14;Levante;40;37;9;13;15;44;55\\r\\n37;2021/05/16;15;Alav\\xc3\\xa9s;38;37;9;11;17;36;56\\r\\n37;2021/05/16;16;Getafe;37;37;9;10;18;28;43\\r\\n37;2021/05/16;17;Huesca;33;37;7;12;18;34;53\\r\\n37;2021/05/16;18;Elche;33;37;7;12;18;32;55\\r\\n37;2021/05/16;19;Real Valladolid;31;37;5;16;16;33;55\\r\\n37;2021/05/16;20;Eibar;30;37;6;12;19;29;51\\r\\n38;2021/05/21;1;Atl\\xc3\\xa9tico de Madrid;86;38;26;8;4;67;25\\r\\n38;2021/05/21;2;Real Madrid;84;38;25;9;4;67;28\\r\\n38;2021/05/21;3;Barcelona;79;38;24;7;7;85;38\\r\\n38;2021/05/21;4;Sevilla;77;38;24;5;9;53;33\\r\\n38;2021/05/21;5;R. Sociedad;62;38;17;11;10;59;38\\r\\n38;2021/05/21;6;Real Betis;61;38;17;10;11;50;50\\r\\n38;2021/05/21;7;Villarreal;58;38;15;13;10;60;44\\r\\n38;2021/05/21;8;Celta;53;38;14;11;13;55;57\\r\\n38;2021/05/21;9;Granada;46;38;13;7;18;47;65\\r\\n38;2021/05/21;10;Athletic;46;38;11;13;14;46;42\\r\\n38;2021/05/21;11;Osasuna;44;38;11;11;16;37;48\\r\\n38;2021/05/21;12;C\\xc3\\xa1diz;44;38;11;11;16;36;58\\r\\n38;2021/05/21;13;Valencia;43;38;10;13;15;50;53\\r\\n38;2021/05/21;14;Levante;41;38;9;14;15;46;57\\r\\n38;2021/05/21;15;Getafe;38;38;9;11;18;28;43\\r\\n38;2021/05/21;16;Alav\\xc3\\xa9s;38;38;9;11;18;36;57\\r\\n38;2021/05/21;17;Elche;36;38;8;12;18;34;55\\r\\n38;2021/05/21;18;Huesca;34;38;7;13;18;34;53\\r\\n38;2021/05/21;19;Real Valladolid;31;38;5;16;17;34;57\\r\\n38;2021/05/21;20;Eibar;30;38;6;12;20;29;52\\r\\n'}"
            ]
          },
          "metadata": {
            "tags": []
          },
          "execution_count": 13
        }
      ]
    },
    {
      "cell_type": "code",
      "metadata": {
        "colab": {
          "base_uri": "https://localhost:8080/",
          "height": 206
        },
        "id": "1S6MX7HUVfMv",
        "outputId": "726e455f-8bbd-4914-a58c-5c0be84b8121"
      },
      "source": [
        "#Librerías\n",
        "import pandas as pd\n",
        "import matplotlib.pyplot as plt\n",
        "import matplotlib.ticker as ticker\n",
        "import matplotlib.animation as animation\n",
        "from matplotlib.animation import FuncAnimation, PillowWriter\n",
        "from IPython.display import HTML\n",
        "\n",
        "#https://cnecovid.isciii.es/\n",
        "#https://ca.wikipedia.org/wiki/ISO_3166-2:ES\n",
        "\n",
        "liga_esp = pd.read_csv('liga_santander_2020-2021.csv', delimiter=';', usecols=['fecha', 'equipo', 'puntos'])\n",
        "\n",
        "liga_esp.head()"
      ],
      "execution_count": null,
      "outputs": [
        {
          "output_type": "execute_result",
          "data": {
            "text/html": [
              "<div>\n",
              "<style scoped>\n",
              "    .dataframe tbody tr th:only-of-type {\n",
              "        vertical-align: middle;\n",
              "    }\n",
              "\n",
              "    .dataframe tbody tr th {\n",
              "        vertical-align: top;\n",
              "    }\n",
              "\n",
              "    .dataframe thead th {\n",
              "        text-align: right;\n",
              "    }\n",
              "</style>\n",
              "<table border=\"1\" class=\"dataframe\">\n",
              "  <thead>\n",
              "    <tr style=\"text-align: right;\">\n",
              "      <th></th>\n",
              "      <th>fecha</th>\n",
              "      <th>equipo</th>\n",
              "      <th>puntos</th>\n",
              "    </tr>\n",
              "  </thead>\n",
              "  <tbody>\n",
              "    <tr>\n",
              "      <th>0</th>\n",
              "      <td>2020/09/12</td>\n",
              "      <td>Real Madrid</td>\n",
              "      <td>3</td>\n",
              "    </tr>\n",
              "    <tr>\n",
              "      <th>1</th>\n",
              "      <td>2020/09/12</td>\n",
              "      <td>Atlético de Madrid</td>\n",
              "      <td>3</td>\n",
              "    </tr>\n",
              "    <tr>\n",
              "      <th>2</th>\n",
              "      <td>2020/09/12</td>\n",
              "      <td>Barcelona</td>\n",
              "      <td>3</td>\n",
              "    </tr>\n",
              "    <tr>\n",
              "      <th>3</th>\n",
              "      <td>2020/09/12</td>\n",
              "      <td>Real Betis</td>\n",
              "      <td>3</td>\n",
              "    </tr>\n",
              "    <tr>\n",
              "      <th>4</th>\n",
              "      <td>2020/09/12</td>\n",
              "      <td>Granada</td>\n",
              "      <td>3</td>\n",
              "    </tr>\n",
              "  </tbody>\n",
              "</table>\n",
              "</div>"
            ],
            "text/plain": [
              "        fecha              equipo  puntos\n",
              "0  2020/09/12         Real Madrid       3\n",
              "1  2020/09/12  Atlético de Madrid       3\n",
              "2  2020/09/12           Barcelona       3\n",
              "3  2020/09/12          Real Betis       3\n",
              "4  2020/09/12             Granada       3"
            ]
          },
          "metadata": {
            "tags": []
          },
          "execution_count": 14
        }
      ]
    },
    {
      "cell_type": "code",
      "metadata": {
        "colab": {
          "base_uri": "https://localhost:8080/",
          "height": 292
        },
        "id": "RIklpXSOVpHa",
        "outputId": "994332b4-776b-4638-a6df-a9b8d8654d73"
      },
      "source": [
        "df = liga_esp.pivot_table(values = 'puntos', index = ['fecha'], columns = 'equipo')\n",
        "df.head()"
      ],
      "execution_count": null,
      "outputs": [
        {
          "output_type": "execute_result",
          "data": {
            "text/html": [
              "<div>\n",
              "<style scoped>\n",
              "    .dataframe tbody tr th:only-of-type {\n",
              "        vertical-align: middle;\n",
              "    }\n",
              "\n",
              "    .dataframe tbody tr th {\n",
              "        vertical-align: top;\n",
              "    }\n",
              "\n",
              "    .dataframe thead th {\n",
              "        text-align: right;\n",
              "    }\n",
              "</style>\n",
              "<table border=\"1\" class=\"dataframe\">\n",
              "  <thead>\n",
              "    <tr style=\"text-align: right;\">\n",
              "      <th>equipo</th>\n",
              "      <th>Alavés</th>\n",
              "      <th>Athletic</th>\n",
              "      <th>Atlético de Madrid</th>\n",
              "      <th>Barcelona</th>\n",
              "      <th>Celta</th>\n",
              "      <th>Cádiz</th>\n",
              "      <th>Eibar</th>\n",
              "      <th>Elche</th>\n",
              "      <th>Getafe</th>\n",
              "      <th>Granada</th>\n",
              "      <th>Huesca</th>\n",
              "      <th>Levante</th>\n",
              "      <th>Osasuna</th>\n",
              "      <th>R. Sociedad</th>\n",
              "      <th>Real Betis</th>\n",
              "      <th>Real Madrid</th>\n",
              "      <th>Real Valladolid</th>\n",
              "      <th>Sevilla</th>\n",
              "      <th>Valencia</th>\n",
              "      <th>Villarreal</th>\n",
              "    </tr>\n",
              "    <tr>\n",
              "      <th>fecha</th>\n",
              "      <th></th>\n",
              "      <th></th>\n",
              "      <th></th>\n",
              "      <th></th>\n",
              "      <th></th>\n",
              "      <th></th>\n",
              "      <th></th>\n",
              "      <th></th>\n",
              "      <th></th>\n",
              "      <th></th>\n",
              "      <th></th>\n",
              "      <th></th>\n",
              "      <th></th>\n",
              "      <th></th>\n",
              "      <th></th>\n",
              "      <th></th>\n",
              "      <th></th>\n",
              "      <th></th>\n",
              "      <th></th>\n",
              "      <th></th>\n",
              "    </tr>\n",
              "  </thead>\n",
              "  <tbody>\n",
              "    <tr>\n",
              "      <th>2020/09/12</th>\n",
              "      <td>0.0</td>\n",
              "      <td>0.0</td>\n",
              "      <td>3.0</td>\n",
              "      <td>3.0</td>\n",
              "      <td>1.0</td>\n",
              "      <td>0.0</td>\n",
              "      <td>1.0</td>\n",
              "      <td>0.0</td>\n",
              "      <td>0.0</td>\n",
              "      <td>3.0</td>\n",
              "      <td>1.0</td>\n",
              "      <td>0.0</td>\n",
              "      <td>3.0</td>\n",
              "      <td>1.0</td>\n",
              "      <td>3.0</td>\n",
              "      <td>3.0</td>\n",
              "      <td>1.0</td>\n",
              "      <td>0.0</td>\n",
              "      <td>3.0</td>\n",
              "      <td>1.0</td>\n",
              "    </tr>\n",
              "    <tr>\n",
              "      <th>2020/09/19</th>\n",
              "      <td>0.0</td>\n",
              "      <td>0.0</td>\n",
              "      <td>4.0</td>\n",
              "      <td>6.0</td>\n",
              "      <td>4.0</td>\n",
              "      <td>3.0</td>\n",
              "      <td>1.0</td>\n",
              "      <td>0.0</td>\n",
              "      <td>3.0</td>\n",
              "      <td>6.0</td>\n",
              "      <td>1.0</td>\n",
              "      <td>1.0</td>\n",
              "      <td>3.0</td>\n",
              "      <td>2.0</td>\n",
              "      <td>6.0</td>\n",
              "      <td>4.0</td>\n",
              "      <td>1.0</td>\n",
              "      <td>3.0</td>\n",
              "      <td>3.0</td>\n",
              "      <td>4.0</td>\n",
              "    </tr>\n",
              "    <tr>\n",
              "      <th>2020/09/26</th>\n",
              "      <td>1.0</td>\n",
              "      <td>3.0</td>\n",
              "      <td>7.0</td>\n",
              "      <td>9.0</td>\n",
              "      <td>5.0</td>\n",
              "      <td>3.0</td>\n",
              "      <td>1.0</td>\n",
              "      <td>0.0</td>\n",
              "      <td>4.0</td>\n",
              "      <td>6.0</td>\n",
              "      <td>2.0</td>\n",
              "      <td>4.0</td>\n",
              "      <td>3.0</td>\n",
              "      <td>5.0</td>\n",
              "      <td>6.0</td>\n",
              "      <td>7.0</td>\n",
              "      <td>2.0</td>\n",
              "      <td>6.0</td>\n",
              "      <td>4.0</td>\n",
              "      <td>4.0</td>\n",
              "    </tr>\n",
              "    <tr>\n",
              "      <th>2020/09/29</th>\n",
              "      <td>1.0</td>\n",
              "      <td>3.0</td>\n",
              "      <td>8.0</td>\n",
              "      <td>12.0</td>\n",
              "      <td>5.0</td>\n",
              "      <td>6.0</td>\n",
              "      <td>1.0</td>\n",
              "      <td>3.0</td>\n",
              "      <td>7.0</td>\n",
              "      <td>9.0</td>\n",
              "      <td>3.0</td>\n",
              "      <td>4.0</td>\n",
              "      <td>3.0</td>\n",
              "      <td>5.0</td>\n",
              "      <td>6.0</td>\n",
              "      <td>10.0</td>\n",
              "      <td>2.0</td>\n",
              "      <td>9.0</td>\n",
              "      <td>7.0</td>\n",
              "      <td>7.0</td>\n",
              "    </tr>\n",
              "    <tr>\n",
              "      <th>2020/10/03</th>\n",
              "      <td>4.0</td>\n",
              "      <td>3.0</td>\n",
              "      <td>9.0</td>\n",
              "      <td>13.0</td>\n",
              "      <td>5.0</td>\n",
              "      <td>7.0</td>\n",
              "      <td>4.0</td>\n",
              "      <td>4.0</td>\n",
              "      <td>7.0</td>\n",
              "      <td>10.0</td>\n",
              "      <td>4.0</td>\n",
              "      <td>4.0</td>\n",
              "      <td>6.0</td>\n",
              "      <td>8.0</td>\n",
              "      <td>9.0</td>\n",
              "      <td>13.0</td>\n",
              "      <td>2.0</td>\n",
              "      <td>10.0</td>\n",
              "      <td>7.0</td>\n",
              "      <td>8.0</td>\n",
              "    </tr>\n",
              "  </tbody>\n",
              "</table>\n",
              "</div>"
            ],
            "text/plain": [
              "equipo      Alavés  Athletic  Atlético de Madrid  ...  Sevilla  Valencia  Villarreal\n",
              "fecha                                             ...                               \n",
              "2020/09/12     0.0       0.0                 3.0  ...      0.0       3.0         1.0\n",
              "2020/09/19     0.0       0.0                 4.0  ...      3.0       3.0         4.0\n",
              "2020/09/26     1.0       3.0                 7.0  ...      6.0       4.0         4.0\n",
              "2020/09/29     1.0       3.0                 8.0  ...      9.0       7.0         7.0\n",
              "2020/10/03     4.0       3.0                 9.0  ...     10.0       7.0         8.0\n",
              "\n",
              "[5 rows x 20 columns]"
            ]
          },
          "metadata": {
            "tags": []
          },
          "execution_count": 15
        }
      ]
    },
    {
      "cell_type": "code",
      "metadata": {
        "id": "HdGjEUq0Vsu2"
      },
      "source": [
        "df.fillna(0, inplace=True)\n",
        "df.sort_values(list(df.columns),inplace=True)\n",
        "df = df.sort_index()"
      ],
      "execution_count": null,
      "outputs": []
    },
    {
      "cell_type": "code",
      "metadata": {
        "colab": {
          "base_uri": "https://localhost:8080/",
          "height": 292
        },
        "id": "GBwu93C1XhPk",
        "outputId": "1cf84786-00a2-4137-d0a9-e09383c17b96"
      },
      "source": [
        "top_liga_clubs = set()\n",
        "\n",
        "for index, row in df.iterrows():\n",
        "    top_liga_clubs |= set(row[row > 0].sort_values(ascending=False).index)\n",
        "\n",
        "df = df[top_liga_clubs]\n",
        "df.head()"
      ],
      "execution_count": null,
      "outputs": [
        {
          "output_type": "execute_result",
          "data": {
            "text/html": [
              "<div>\n",
              "<style scoped>\n",
              "    .dataframe tbody tr th:only-of-type {\n",
              "        vertical-align: middle;\n",
              "    }\n",
              "\n",
              "    .dataframe tbody tr th {\n",
              "        vertical-align: top;\n",
              "    }\n",
              "\n",
              "    .dataframe thead th {\n",
              "        text-align: right;\n",
              "    }\n",
              "</style>\n",
              "<table border=\"1\" class=\"dataframe\">\n",
              "  <thead>\n",
              "    <tr style=\"text-align: right;\">\n",
              "      <th>equipo</th>\n",
              "      <th>Barcelona</th>\n",
              "      <th>Elche</th>\n",
              "      <th>Valencia</th>\n",
              "      <th>Real Valladolid</th>\n",
              "      <th>Granada</th>\n",
              "      <th>Athletic</th>\n",
              "      <th>Atlético de Madrid</th>\n",
              "      <th>Getafe</th>\n",
              "      <th>Celta</th>\n",
              "      <th>Eibar</th>\n",
              "      <th>Huesca</th>\n",
              "      <th>Cádiz</th>\n",
              "      <th>R. Sociedad</th>\n",
              "      <th>Levante</th>\n",
              "      <th>Villarreal</th>\n",
              "      <th>Sevilla</th>\n",
              "      <th>Real Madrid</th>\n",
              "      <th>Osasuna</th>\n",
              "      <th>Alavés</th>\n",
              "      <th>Real Betis</th>\n",
              "    </tr>\n",
              "    <tr>\n",
              "      <th>fecha</th>\n",
              "      <th></th>\n",
              "      <th></th>\n",
              "      <th></th>\n",
              "      <th></th>\n",
              "      <th></th>\n",
              "      <th></th>\n",
              "      <th></th>\n",
              "      <th></th>\n",
              "      <th></th>\n",
              "      <th></th>\n",
              "      <th></th>\n",
              "      <th></th>\n",
              "      <th></th>\n",
              "      <th></th>\n",
              "      <th></th>\n",
              "      <th></th>\n",
              "      <th></th>\n",
              "      <th></th>\n",
              "      <th></th>\n",
              "      <th></th>\n",
              "    </tr>\n",
              "  </thead>\n",
              "  <tbody>\n",
              "    <tr>\n",
              "      <th>2020/09/12</th>\n",
              "      <td>3.0</td>\n",
              "      <td>0.0</td>\n",
              "      <td>3.0</td>\n",
              "      <td>1.0</td>\n",
              "      <td>3.0</td>\n",
              "      <td>0.0</td>\n",
              "      <td>3.0</td>\n",
              "      <td>0.0</td>\n",
              "      <td>1.0</td>\n",
              "      <td>1.0</td>\n",
              "      <td>1.0</td>\n",
              "      <td>0.0</td>\n",
              "      <td>1.0</td>\n",
              "      <td>0.0</td>\n",
              "      <td>1.0</td>\n",
              "      <td>0.0</td>\n",
              "      <td>3.0</td>\n",
              "      <td>3.0</td>\n",
              "      <td>0.0</td>\n",
              "      <td>3.0</td>\n",
              "    </tr>\n",
              "    <tr>\n",
              "      <th>2020/09/19</th>\n",
              "      <td>6.0</td>\n",
              "      <td>0.0</td>\n",
              "      <td>3.0</td>\n",
              "      <td>1.0</td>\n",
              "      <td>6.0</td>\n",
              "      <td>0.0</td>\n",
              "      <td>4.0</td>\n",
              "      <td>3.0</td>\n",
              "      <td>4.0</td>\n",
              "      <td>1.0</td>\n",
              "      <td>1.0</td>\n",
              "      <td>3.0</td>\n",
              "      <td>2.0</td>\n",
              "      <td>1.0</td>\n",
              "      <td>4.0</td>\n",
              "      <td>3.0</td>\n",
              "      <td>4.0</td>\n",
              "      <td>3.0</td>\n",
              "      <td>0.0</td>\n",
              "      <td>6.0</td>\n",
              "    </tr>\n",
              "    <tr>\n",
              "      <th>2020/09/26</th>\n",
              "      <td>9.0</td>\n",
              "      <td>0.0</td>\n",
              "      <td>4.0</td>\n",
              "      <td>2.0</td>\n",
              "      <td>6.0</td>\n",
              "      <td>3.0</td>\n",
              "      <td>7.0</td>\n",
              "      <td>4.0</td>\n",
              "      <td>5.0</td>\n",
              "      <td>1.0</td>\n",
              "      <td>2.0</td>\n",
              "      <td>3.0</td>\n",
              "      <td>5.0</td>\n",
              "      <td>4.0</td>\n",
              "      <td>4.0</td>\n",
              "      <td>6.0</td>\n",
              "      <td>7.0</td>\n",
              "      <td>3.0</td>\n",
              "      <td>1.0</td>\n",
              "      <td>6.0</td>\n",
              "    </tr>\n",
              "    <tr>\n",
              "      <th>2020/09/29</th>\n",
              "      <td>12.0</td>\n",
              "      <td>3.0</td>\n",
              "      <td>7.0</td>\n",
              "      <td>2.0</td>\n",
              "      <td>9.0</td>\n",
              "      <td>3.0</td>\n",
              "      <td>8.0</td>\n",
              "      <td>7.0</td>\n",
              "      <td>5.0</td>\n",
              "      <td>1.0</td>\n",
              "      <td>3.0</td>\n",
              "      <td>6.0</td>\n",
              "      <td>5.0</td>\n",
              "      <td>4.0</td>\n",
              "      <td>7.0</td>\n",
              "      <td>9.0</td>\n",
              "      <td>10.0</td>\n",
              "      <td>3.0</td>\n",
              "      <td>1.0</td>\n",
              "      <td>6.0</td>\n",
              "    </tr>\n",
              "    <tr>\n",
              "      <th>2020/10/03</th>\n",
              "      <td>13.0</td>\n",
              "      <td>4.0</td>\n",
              "      <td>7.0</td>\n",
              "      <td>2.0</td>\n",
              "      <td>10.0</td>\n",
              "      <td>3.0</td>\n",
              "      <td>9.0</td>\n",
              "      <td>7.0</td>\n",
              "      <td>5.0</td>\n",
              "      <td>4.0</td>\n",
              "      <td>4.0</td>\n",
              "      <td>7.0</td>\n",
              "      <td>8.0</td>\n",
              "      <td>4.0</td>\n",
              "      <td>8.0</td>\n",
              "      <td>10.0</td>\n",
              "      <td>13.0</td>\n",
              "      <td>6.0</td>\n",
              "      <td>4.0</td>\n",
              "      <td>9.0</td>\n",
              "    </tr>\n",
              "  </tbody>\n",
              "</table>\n",
              "</div>"
            ],
            "text/plain": [
              "equipo      Barcelona  Elche  Valencia  ...  Osasuna  Alavés  Real Betis\n",
              "fecha                                   ...                             \n",
              "2020/09/12        3.0    0.0       3.0  ...      3.0     0.0         3.0\n",
              "2020/09/19        6.0    0.0       3.0  ...      3.0     0.0         6.0\n",
              "2020/09/26        9.0    0.0       4.0  ...      3.0     1.0         6.0\n",
              "2020/09/29       12.0    3.0       7.0  ...      3.0     1.0         6.0\n",
              "2020/10/03       13.0    4.0       7.0  ...      6.0     4.0         9.0\n",
              "\n",
              "[5 rows x 20 columns]"
            ]
          },
          "metadata": {
            "tags": []
          },
          "execution_count": 17
        }
      ]
    },
    {
      "cell_type": "code",
      "metadata": {
        "id": "TJkI5pIrXvQA"
      },
      "source": [
        "import bar_chart_race as bcr"
      ],
      "execution_count": null,
      "outputs": []
    },
    {
      "cell_type": "code",
      "metadata": {
        "id": "AuJ4FvG6YBDT"
      },
      "source": [
        "bcr.bar_chart_race(df = df, \n",
        "                   n_bars = 20,\n",
        "                   figsize=(10, 6),\n",
        "                   dpi=200,\n",
        "                   sort='desc',\n",
        "                   title='Liga española 2020/2021',\n",
        "                   filename = 'esp_clubs.mp4')"
      ],
      "execution_count": null,
      "outputs": []
    },
    {
      "cell_type": "code",
      "metadata": {
        "id": "AkTaVEamoc6Q"
      },
      "source": [
        ""
      ],
      "execution_count": null,
      "outputs": []
    }
  ]
}